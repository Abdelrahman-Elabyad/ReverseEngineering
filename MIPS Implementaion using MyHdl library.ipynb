{
  "nbformat": 4,
  "nbformat_minor": 0,
  "metadata": {
    "colab": {
      "provenance": []
    },
    "kernelspec": {
      "name": "python3",
      "display_name": "Python 3"
    },
    "language_info": {
      "name": "python"
    }
  },
  "cells": [
    {
      "cell_type": "code",
      "execution_count": null,
      "metadata": {
        "id": "DBRus6tLgmas",
        "collapsed": true,
        "colab": {
          "base_uri": "https://localhost:8080/"
        },
        "outputId": "38aea1e2-6363-4a8d-f0d3-0302dac3bfd5"
      },
      "outputs": [
        {
          "output_type": "stream",
          "name": "stdout",
          "text": [
            "Collecting myhdl\n",
            "  Downloading myhdl-0.11.51-py3-none-any.whl.metadata (3.4 kB)\n",
            "Downloading myhdl-0.11.51-py3-none-any.whl (163 kB)\n",
            "\u001b[2K   \u001b[90m━━━━━━━━━━━━━━━━━━━━━━━━━━━━━━━━━━━━━━━━\u001b[0m \u001b[32m164.0/164.0 kB\u001b[0m \u001b[31m3.0 MB/s\u001b[0m eta \u001b[36m0:00:00\u001b[0m\n",
            "\u001b[?25hInstalling collected packages: myhdl\n",
            "Successfully installed myhdl-0.11.51\n",
            "Collecting myhdlpeek\n",
            "  Downloading myhdlpeek-1.0.0.tar.gz (1.3 MB)\n",
            "\u001b[2K     \u001b[90m━━━━━━━━━━━━━━━━━━━━━━━━━━━━━━━━━━━━━━━━\u001b[0m \u001b[32m1.3/1.3 MB\u001b[0m \u001b[31m14.0 MB/s\u001b[0m eta \u001b[36m0:00:00\u001b[0m\n",
            "\u001b[?25h  Preparing metadata (setup.py) ... \u001b[?25l\u001b[?25hdone\n",
            "Requirement already satisfied: myhdl in /usr/local/lib/python3.11/dist-packages (from myhdlpeek) (0.11.51)\n",
            "Collecting amaranth (from myhdlpeek)\n",
            "  Downloading amaranth-0.5.6-py3-none-any.whl.metadata (4.3 kB)\n",
            "Requirement already satisfied: tabulate in /usr/local/lib/python3.11/dist-packages (from myhdlpeek) (0.9.0)\n",
            "Requirement already satisfied: pandas in /usr/local/lib/python3.11/dist-packages (from myhdlpeek) (2.2.2)\n",
            "Collecting nbwavedrom (from myhdlpeek)\n",
            "  Downloading nbwavedrom-1.0.1-py3-none-any.whl.metadata (1.5 kB)\n",
            "Requirement already satisfied: IPython in /usr/local/lib/python3.11/dist-packages (from myhdlpeek) (7.34.0)\n",
            "Collecting jupyterlab (from myhdlpeek)\n",
            "  Downloading jupyterlab-4.4.2-py3-none-any.whl.metadata (16 kB)\n",
            "Requirement already satisfied: nbconvert in /usr/local/lib/python3.11/dist-packages (from myhdlpeek) (7.16.6)\n",
            "Requirement already satisfied: nbformat in /usr/local/lib/python3.11/dist-packages (from myhdlpeek) (5.10.4)\n",
            "Requirement already satisfied: matplotlib in /usr/local/lib/python3.11/dist-packages (from myhdlpeek) (3.10.0)\n",
            "Collecting jschon~=0.11.1 (from amaranth->myhdlpeek)\n",
            "  Downloading jschon-0.11.1-py3-none-any.whl.metadata (5.4 kB)\n",
            "Collecting pyvcd<0.5,>=0.2.2 (from amaranth->myhdlpeek)\n",
            "  Downloading pyvcd-0.4.1-py2.py3-none-any.whl.metadata (4.2 kB)\n",
            "Requirement already satisfied: Jinja2~=3.0 in /usr/local/lib/python3.11/dist-packages (from amaranth->myhdlpeek) (3.1.6)\n",
            "Requirement already satisfied: setuptools>=18.5 in /usr/local/lib/python3.11/dist-packages (from IPython->myhdlpeek) (75.2.0)\n",
            "Collecting jedi>=0.16 (from IPython->myhdlpeek)\n",
            "  Downloading jedi-0.19.2-py2.py3-none-any.whl.metadata (22 kB)\n",
            "Requirement already satisfied: decorator in /usr/local/lib/python3.11/dist-packages (from IPython->myhdlpeek) (4.4.2)\n",
            "Requirement already satisfied: pickleshare in /usr/local/lib/python3.11/dist-packages (from IPython->myhdlpeek) (0.7.5)\n",
            "Requirement already satisfied: traitlets>=4.2 in /usr/local/lib/python3.11/dist-packages (from IPython->myhdlpeek) (5.7.1)\n",
            "Requirement already satisfied: prompt-toolkit!=3.0.0,!=3.0.1,<3.1.0,>=2.0.0 in /usr/local/lib/python3.11/dist-packages (from IPython->myhdlpeek) (3.0.51)\n",
            "Requirement already satisfied: pygments in /usr/local/lib/python3.11/dist-packages (from IPython->myhdlpeek) (2.19.1)\n",
            "Requirement already satisfied: backcall in /usr/local/lib/python3.11/dist-packages (from IPython->myhdlpeek) (0.2.0)\n",
            "Requirement already satisfied: matplotlib-inline in /usr/local/lib/python3.11/dist-packages (from IPython->myhdlpeek) (0.1.7)\n",
            "Requirement already satisfied: pexpect>4.3 in /usr/local/lib/python3.11/dist-packages (from IPython->myhdlpeek) (4.9.0)\n",
            "Collecting async-lru>=1.0.0 (from jupyterlab->myhdlpeek)\n",
            "  Downloading async_lru-2.0.5-py3-none-any.whl.metadata (4.5 kB)\n",
            "Requirement already satisfied: httpx>=0.25.0 in /usr/local/lib/python3.11/dist-packages (from jupyterlab->myhdlpeek) (0.28.1)\n",
            "Requirement already satisfied: ipykernel>=6.5.0 in /usr/local/lib/python3.11/dist-packages (from jupyterlab->myhdlpeek) (6.17.1)\n",
            "Requirement already satisfied: jupyter-core in /usr/local/lib/python3.11/dist-packages (from jupyterlab->myhdlpeek) (5.7.2)\n",
            "Collecting jupyter-lsp>=2.0.0 (from jupyterlab->myhdlpeek)\n",
            "  Downloading jupyter_lsp-2.2.5-py3-none-any.whl.metadata (1.8 kB)\n",
            "Collecting jupyter-server<3,>=2.4.0 (from jupyterlab->myhdlpeek)\n",
            "  Downloading jupyter_server-2.16.0-py3-none-any.whl.metadata (8.5 kB)\n",
            "Collecting jupyterlab-server<3,>=2.27.1 (from jupyterlab->myhdlpeek)\n",
            "  Downloading jupyterlab_server-2.27.3-py3-none-any.whl.metadata (5.9 kB)\n",
            "Requirement already satisfied: notebook-shim>=0.2 in /usr/local/lib/python3.11/dist-packages (from jupyterlab->myhdlpeek) (0.2.4)\n",
            "Requirement already satisfied: packaging in /usr/local/lib/python3.11/dist-packages (from jupyterlab->myhdlpeek) (24.2)\n",
            "Requirement already satisfied: tornado>=6.2.0 in /usr/local/lib/python3.11/dist-packages (from jupyterlab->myhdlpeek) (6.4.2)\n",
            "Requirement already satisfied: contourpy>=1.0.1 in /usr/local/lib/python3.11/dist-packages (from matplotlib->myhdlpeek) (1.3.2)\n",
            "Requirement already satisfied: cycler>=0.10 in /usr/local/lib/python3.11/dist-packages (from matplotlib->myhdlpeek) (0.12.1)\n",
            "Requirement already satisfied: fonttools>=4.22.0 in /usr/local/lib/python3.11/dist-packages (from matplotlib->myhdlpeek) (4.58.0)\n",
            "Requirement already satisfied: kiwisolver>=1.3.1 in /usr/local/lib/python3.11/dist-packages (from matplotlib->myhdlpeek) (1.4.8)\n",
            "Requirement already satisfied: numpy>=1.23 in /usr/local/lib/python3.11/dist-packages (from matplotlib->myhdlpeek) (2.0.2)\n",
            "Requirement already satisfied: pillow>=8 in /usr/local/lib/python3.11/dist-packages (from matplotlib->myhdlpeek) (11.2.1)\n",
            "Requirement already satisfied: pyparsing>=2.3.1 in /usr/local/lib/python3.11/dist-packages (from matplotlib->myhdlpeek) (3.2.3)\n",
            "Requirement already satisfied: python-dateutil>=2.7 in /usr/local/lib/python3.11/dist-packages (from matplotlib->myhdlpeek) (2.9.0.post0)\n",
            "Requirement already satisfied: beautifulsoup4 in /usr/local/lib/python3.11/dist-packages (from nbconvert->myhdlpeek) (4.13.4)\n",
            "Requirement already satisfied: bleach!=5.0.0 in /usr/local/lib/python3.11/dist-packages (from bleach[css]!=5.0.0->nbconvert->myhdlpeek) (6.2.0)\n",
            "Requirement already satisfied: defusedxml in /usr/local/lib/python3.11/dist-packages (from nbconvert->myhdlpeek) (0.7.1)\n",
            "Requirement already satisfied: jupyterlab-pygments in /usr/local/lib/python3.11/dist-packages (from nbconvert->myhdlpeek) (0.3.0)\n",
            "Requirement already satisfied: markupsafe>=2.0 in /usr/local/lib/python3.11/dist-packages (from nbconvert->myhdlpeek) (3.0.2)\n",
            "Requirement already satisfied: mistune<4,>=2.0.3 in /usr/local/lib/python3.11/dist-packages (from nbconvert->myhdlpeek) (3.1.3)\n",
            "Requirement already satisfied: nbclient>=0.5.0 in /usr/local/lib/python3.11/dist-packages (from nbconvert->myhdlpeek) (0.10.2)\n",
            "Requirement already satisfied: pandocfilters>=1.4.1 in /usr/local/lib/python3.11/dist-packages (from nbconvert->myhdlpeek) (1.5.1)\n",
            "Requirement already satisfied: fastjsonschema>=2.15 in /usr/local/lib/python3.11/dist-packages (from nbformat->myhdlpeek) (2.21.1)\n",
            "Requirement already satisfied: jsonschema>=2.6 in /usr/local/lib/python3.11/dist-packages (from nbformat->myhdlpeek) (4.23.0)\n",
            "Requirement already satisfied: pytz>=2020.1 in /usr/local/lib/python3.11/dist-packages (from pandas->myhdlpeek) (2025.2)\n",
            "Requirement already satisfied: tzdata>=2022.7 in /usr/local/lib/python3.11/dist-packages (from pandas->myhdlpeek) (2025.2)\n",
            "Requirement already satisfied: webencodings in /usr/local/lib/python3.11/dist-packages (from bleach!=5.0.0->bleach[css]!=5.0.0->nbconvert->myhdlpeek) (0.5.1)\n",
            "Requirement already satisfied: tinycss2<1.5,>=1.1.0 in /usr/local/lib/python3.11/dist-packages (from bleach[css]!=5.0.0->nbconvert->myhdlpeek) (1.4.0)\n",
            "Requirement already satisfied: anyio in /usr/local/lib/python3.11/dist-packages (from httpx>=0.25.0->jupyterlab->myhdlpeek) (4.9.0)\n",
            "Requirement already satisfied: certifi in /usr/local/lib/python3.11/dist-packages (from httpx>=0.25.0->jupyterlab->myhdlpeek) (2025.4.26)\n",
            "Requirement already satisfied: httpcore==1.* in /usr/local/lib/python3.11/dist-packages (from httpx>=0.25.0->jupyterlab->myhdlpeek) (1.0.9)\n",
            "Requirement already satisfied: idna in /usr/local/lib/python3.11/dist-packages (from httpx>=0.25.0->jupyterlab->myhdlpeek) (3.10)\n",
            "Requirement already satisfied: h11>=0.16 in /usr/local/lib/python3.11/dist-packages (from httpcore==1.*->httpx>=0.25.0->jupyterlab->myhdlpeek) (0.16.0)\n",
            "Requirement already satisfied: debugpy>=1.0 in /usr/local/lib/python3.11/dist-packages (from ipykernel>=6.5.0->jupyterlab->myhdlpeek) (1.8.0)\n",
            "Requirement already satisfied: jupyter-client>=6.1.12 in /usr/local/lib/python3.11/dist-packages (from ipykernel>=6.5.0->jupyterlab->myhdlpeek) (6.1.12)\n",
            "Requirement already satisfied: nest-asyncio in /usr/local/lib/python3.11/dist-packages (from ipykernel>=6.5.0->jupyterlab->myhdlpeek) (1.6.0)\n",
            "Requirement already satisfied: psutil in /usr/local/lib/python3.11/dist-packages (from ipykernel>=6.5.0->jupyterlab->myhdlpeek) (5.9.5)\n",
            "Requirement already satisfied: pyzmq>=17 in /usr/local/lib/python3.11/dist-packages (from ipykernel>=6.5.0->jupyterlab->myhdlpeek) (24.0.1)\n",
            "Requirement already satisfied: parso<0.9.0,>=0.8.4 in /usr/local/lib/python3.11/dist-packages (from jedi>=0.16->IPython->myhdlpeek) (0.8.4)\n",
            "Collecting rfc3986 (from jschon~=0.11.1->amaranth->myhdlpeek)\n",
            "  Downloading rfc3986-2.0.0-py2.py3-none-any.whl.metadata (6.6 kB)\n",
            "Requirement already satisfied: attrs>=22.2.0 in /usr/local/lib/python3.11/dist-packages (from jsonschema>=2.6->nbformat->myhdlpeek) (25.3.0)\n",
            "Requirement already satisfied: jsonschema-specifications>=2023.03.6 in /usr/local/lib/python3.11/dist-packages (from jsonschema>=2.6->nbformat->myhdlpeek) (2025.4.1)\n",
            "Requirement already satisfied: referencing>=0.28.4 in /usr/local/lib/python3.11/dist-packages (from jsonschema>=2.6->nbformat->myhdlpeek) (0.36.2)\n",
            "Requirement already satisfied: rpds-py>=0.7.1 in /usr/local/lib/python3.11/dist-packages (from jsonschema>=2.6->nbformat->myhdlpeek) (0.24.0)\n",
            "Requirement already satisfied: platformdirs>=2.5 in /usr/local/lib/python3.11/dist-packages (from jupyter-core->jupyterlab->myhdlpeek) (4.3.8)\n",
            "Requirement already satisfied: argon2-cffi>=21.1 in /usr/local/lib/python3.11/dist-packages (from jupyter-server<3,>=2.4.0->jupyterlab->myhdlpeek) (23.1.0)\n",
            "Collecting jupyter-client>=6.1.12 (from ipykernel>=6.5.0->jupyterlab->myhdlpeek)\n",
            "  Downloading jupyter_client-8.6.3-py3-none-any.whl.metadata (8.3 kB)\n",
            "Collecting jupyter-events>=0.11.0 (from jupyter-server<3,>=2.4.0->jupyterlab->myhdlpeek)\n",
            "  Downloading jupyter_events-0.12.0-py3-none-any.whl.metadata (5.8 kB)\n",
            "Collecting jupyter-server-terminals>=0.4.4 (from jupyter-server<3,>=2.4.0->jupyterlab->myhdlpeek)\n",
            "  Downloading jupyter_server_terminals-0.5.3-py3-none-any.whl.metadata (5.6 kB)\n",
            "Collecting overrides>=5.0 (from jupyter-server<3,>=2.4.0->jupyterlab->myhdlpeek)\n",
            "  Downloading overrides-7.7.0-py3-none-any.whl.metadata (5.8 kB)\n",
            "Requirement already satisfied: prometheus-client>=0.9 in /usr/local/lib/python3.11/dist-packages (from jupyter-server<3,>=2.4.0->jupyterlab->myhdlpeek) (0.21.1)\n",
            "Requirement already satisfied: send2trash>=1.8.2 in /usr/local/lib/python3.11/dist-packages (from jupyter-server<3,>=2.4.0->jupyterlab->myhdlpeek) (1.8.3)\n",
            "Requirement already satisfied: terminado>=0.8.3 in /usr/local/lib/python3.11/dist-packages (from jupyter-server<3,>=2.4.0->jupyterlab->myhdlpeek) (0.18.1)\n",
            "Requirement already satisfied: websocket-client>=1.7 in /usr/local/lib/python3.11/dist-packages (from jupyter-server<3,>=2.4.0->jupyterlab->myhdlpeek) (1.8.0)\n",
            "Requirement already satisfied: babel>=2.10 in /usr/local/lib/python3.11/dist-packages (from jupyterlab-server<3,>=2.27.1->jupyterlab->myhdlpeek) (2.17.0)\n",
            "Collecting json5>=0.9.0 (from jupyterlab-server<3,>=2.27.1->jupyterlab->myhdlpeek)\n",
            "  Downloading json5-0.12.0-py3-none-any.whl.metadata (36 kB)\n",
            "Requirement already satisfied: requests>=2.31 in /usr/local/lib/python3.11/dist-packages (from jupyterlab-server<3,>=2.27.1->jupyterlab->myhdlpeek) (2.32.3)\n",
            "Requirement already satisfied: ptyprocess>=0.5 in /usr/local/lib/python3.11/dist-packages (from pexpect>4.3->IPython->myhdlpeek) (0.7.0)\n",
            "Requirement already satisfied: wcwidth in /usr/local/lib/python3.11/dist-packages (from prompt-toolkit!=3.0.0,!=3.0.1,<3.1.0,>=2.0.0->IPython->myhdlpeek) (0.2.13)\n",
            "Requirement already satisfied: six>=1.5 in /usr/local/lib/python3.11/dist-packages (from python-dateutil>=2.7->matplotlib->myhdlpeek) (1.17.0)\n",
            "Requirement already satisfied: soupsieve>1.2 in /usr/local/lib/python3.11/dist-packages (from beautifulsoup4->nbconvert->myhdlpeek) (2.7)\n",
            "Requirement already satisfied: typing-extensions>=4.0.0 in /usr/local/lib/python3.11/dist-packages (from beautifulsoup4->nbconvert->myhdlpeek) (4.13.2)\n",
            "Requirement already satisfied: sniffio>=1.1 in /usr/local/lib/python3.11/dist-packages (from anyio->httpx>=0.25.0->jupyterlab->myhdlpeek) (1.3.1)\n",
            "Requirement already satisfied: argon2-cffi-bindings in /usr/local/lib/python3.11/dist-packages (from argon2-cffi>=21.1->jupyter-server<3,>=2.4.0->jupyterlab->myhdlpeek) (21.2.0)\n",
            "Collecting python-json-logger>=2.0.4 (from jupyter-events>=0.11.0->jupyter-server<3,>=2.4.0->jupyterlab->myhdlpeek)\n",
            "  Downloading python_json_logger-3.3.0-py3-none-any.whl.metadata (4.0 kB)\n",
            "Requirement already satisfied: pyyaml>=5.3 in /usr/local/lib/python3.11/dist-packages (from jupyter-events>=0.11.0->jupyter-server<3,>=2.4.0->jupyterlab->myhdlpeek) (6.0.2)\n",
            "Collecting rfc3339-validator (from jupyter-events>=0.11.0->jupyter-server<3,>=2.4.0->jupyterlab->myhdlpeek)\n",
            "  Downloading rfc3339_validator-0.1.4-py2.py3-none-any.whl.metadata (1.5 kB)\n",
            "Collecting rfc3986-validator>=0.1.1 (from jupyter-events>=0.11.0->jupyter-server<3,>=2.4.0->jupyterlab->myhdlpeek)\n",
            "  Downloading rfc3986_validator-0.1.1-py2.py3-none-any.whl.metadata (1.7 kB)\n",
            "Requirement already satisfied: charset-normalizer<4,>=2 in /usr/local/lib/python3.11/dist-packages (from requests>=2.31->jupyterlab-server<3,>=2.27.1->jupyterlab->myhdlpeek) (3.4.2)\n",
            "Requirement already satisfied: urllib3<3,>=1.21.1 in /usr/local/lib/python3.11/dist-packages (from requests>=2.31->jupyterlab-server<3,>=2.27.1->jupyterlab->myhdlpeek) (2.4.0)\n",
            "Collecting fqdn (from jsonschema[format-nongpl]>=4.18.0->jupyter-events>=0.11.0->jupyter-server<3,>=2.4.0->jupyterlab->myhdlpeek)\n",
            "  Downloading fqdn-1.5.1-py3-none-any.whl.metadata (1.4 kB)\n",
            "Collecting isoduration (from jsonschema[format-nongpl]>=4.18.0->jupyter-events>=0.11.0->jupyter-server<3,>=2.4.0->jupyterlab->myhdlpeek)\n",
            "  Downloading isoduration-20.11.0-py3-none-any.whl.metadata (5.7 kB)\n",
            "Requirement already satisfied: jsonpointer>1.13 in /usr/local/lib/python3.11/dist-packages (from jsonschema[format-nongpl]>=4.18.0->jupyter-events>=0.11.0->jupyter-server<3,>=2.4.0->jupyterlab->myhdlpeek) (3.0.0)\n",
            "Collecting uri-template (from jsonschema[format-nongpl]>=4.18.0->jupyter-events>=0.11.0->jupyter-server<3,>=2.4.0->jupyterlab->myhdlpeek)\n",
            "  Downloading uri_template-1.3.0-py3-none-any.whl.metadata (8.8 kB)\n",
            "Requirement already satisfied: webcolors>=24.6.0 in /usr/local/lib/python3.11/dist-packages (from jsonschema[format-nongpl]>=4.18.0->jupyter-events>=0.11.0->jupyter-server<3,>=2.4.0->jupyterlab->myhdlpeek) (24.11.1)\n",
            "Requirement already satisfied: cffi>=1.0.1 in /usr/local/lib/python3.11/dist-packages (from argon2-cffi-bindings->argon2-cffi>=21.1->jupyter-server<3,>=2.4.0->jupyterlab->myhdlpeek) (1.17.1)\n",
            "Requirement already satisfied: pycparser in /usr/local/lib/python3.11/dist-packages (from cffi>=1.0.1->argon2-cffi-bindings->argon2-cffi>=21.1->jupyter-server<3,>=2.4.0->jupyterlab->myhdlpeek) (2.22)\n",
            "Collecting arrow>=0.15.0 (from isoduration->jsonschema[format-nongpl]>=4.18.0->jupyter-events>=0.11.0->jupyter-server<3,>=2.4.0->jupyterlab->myhdlpeek)\n",
            "  Downloading arrow-1.3.0-py3-none-any.whl.metadata (7.5 kB)\n",
            "Collecting types-python-dateutil>=2.8.10 (from arrow>=0.15.0->isoduration->jsonschema[format-nongpl]>=4.18.0->jupyter-events>=0.11.0->jupyter-server<3,>=2.4.0->jupyterlab->myhdlpeek)\n",
            "  Downloading types_python_dateutil-2.9.0.20250516-py3-none-any.whl.metadata (2.1 kB)\n",
            "Downloading amaranth-0.5.6-py3-none-any.whl (253 kB)\n",
            "\u001b[2K   \u001b[90m━━━━━━━━━━━━━━━━━━━━━━━━━━━━━━━━━━━━━━━━\u001b[0m \u001b[32m253.7/253.7 kB\u001b[0m \u001b[31m16.2 MB/s\u001b[0m eta \u001b[36m0:00:00\u001b[0m\n",
            "\u001b[?25hDownloading jupyterlab-4.4.2-py3-none-any.whl (12.3 MB)\n",
            "\u001b[2K   \u001b[90m━━━━━━━━━━━━━━━━━━━━━━━━━━━━━━━━━━━━━━━━\u001b[0m \u001b[32m12.3/12.3 MB\u001b[0m \u001b[31m63.0 MB/s\u001b[0m eta \u001b[36m0:00:00\u001b[0m\n",
            "\u001b[?25hDownloading nbwavedrom-1.0.1-py3-none-any.whl (3.0 kB)\n",
            "Downloading async_lru-2.0.5-py3-none-any.whl (6.1 kB)\n",
            "Downloading jedi-0.19.2-py2.py3-none-any.whl (1.6 MB)\n",
            "\u001b[2K   \u001b[90m━━━━━━━━━━━━━━━━━━━━━━━━━━━━━━━━━━━━━━━━\u001b[0m \u001b[32m1.6/1.6 MB\u001b[0m \u001b[31m51.3 MB/s\u001b[0m eta \u001b[36m0:00:00\u001b[0m\n",
            "\u001b[?25hDownloading jschon-0.11.1-py3-none-any.whl (66 kB)\n",
            "\u001b[2K   \u001b[90m━━━━━━━━━━━━━━━━━━━━━━━━━━━━━━━━━━━━━━━━\u001b[0m \u001b[32m67.0/67.0 kB\u001b[0m \u001b[31m4.9 MB/s\u001b[0m eta \u001b[36m0:00:00\u001b[0m\n",
            "\u001b[?25hDownloading jupyter_lsp-2.2.5-py3-none-any.whl (69 kB)\n",
            "\u001b[2K   \u001b[90m━━━━━━━━━━━━━━━━━━━━━━━━━━━━━━━━━━━━━━━━\u001b[0m \u001b[32m69.1/69.1 kB\u001b[0m \u001b[31m4.3 MB/s\u001b[0m eta \u001b[36m0:00:00\u001b[0m\n",
            "\u001b[?25hDownloading jupyter_server-2.16.0-py3-none-any.whl (386 kB)\n",
            "\u001b[2K   \u001b[90m━━━━━━━━━━━━━━━━━━━━━━━━━━━━━━━━━━━━━━━━\u001b[0m \u001b[32m386.9/386.9 kB\u001b[0m \u001b[31m19.4 MB/s\u001b[0m eta \u001b[36m0:00:00\u001b[0m\n",
            "\u001b[?25hDownloading jupyterlab_server-2.27.3-py3-none-any.whl (59 kB)\n",
            "\u001b[2K   \u001b[90m━━━━━━━━━━━━━━━━━━━━━━━━━━━━━━━━━━━━━━━━\u001b[0m \u001b[32m59.7/59.7 kB\u001b[0m \u001b[31m4.5 MB/s\u001b[0m eta \u001b[36m0:00:00\u001b[0m\n",
            "\u001b[?25hDownloading pyvcd-0.4.1-py2.py3-none-any.whl (23 kB)\n",
            "Downloading json5-0.12.0-py3-none-any.whl (36 kB)\n",
            "Downloading jupyter_client-8.6.3-py3-none-any.whl (106 kB)\n",
            "\u001b[2K   \u001b[90m━━━━━━━━━━━━━━━━━━━━━━━━━━━━━━━━━━━━━━━━\u001b[0m \u001b[32m106.1/106.1 kB\u001b[0m \u001b[31m7.8 MB/s\u001b[0m eta \u001b[36m0:00:00\u001b[0m\n",
            "\u001b[?25hDownloading jupyter_events-0.12.0-py3-none-any.whl (19 kB)\n",
            "Downloading jupyter_server_terminals-0.5.3-py3-none-any.whl (13 kB)\n",
            "Downloading overrides-7.7.0-py3-none-any.whl (17 kB)\n",
            "Downloading rfc3986-2.0.0-py2.py3-none-any.whl (31 kB)\n",
            "Downloading python_json_logger-3.3.0-py3-none-any.whl (15 kB)\n",
            "Downloading rfc3986_validator-0.1.1-py2.py3-none-any.whl (4.2 kB)\n",
            "Downloading rfc3339_validator-0.1.4-py2.py3-none-any.whl (3.5 kB)\n",
            "Downloading fqdn-1.5.1-py3-none-any.whl (9.1 kB)\n",
            "Downloading isoduration-20.11.0-py3-none-any.whl (11 kB)\n",
            "Downloading uri_template-1.3.0-py3-none-any.whl (11 kB)\n",
            "Downloading arrow-1.3.0-py3-none-any.whl (66 kB)\n",
            "\u001b[2K   \u001b[90m━━━━━━━━━━━━━━━━━━━━━━━━━━━━━━━━━━━━━━━━\u001b[0m \u001b[32m66.4/66.4 kB\u001b[0m \u001b[31m5.2 MB/s\u001b[0m eta \u001b[36m0:00:00\u001b[0m\n",
            "\u001b[?25hDownloading types_python_dateutil-2.9.0.20250516-py3-none-any.whl (14 kB)\n",
            "Building wheels for collected packages: myhdlpeek\n",
            "  Building wheel for myhdlpeek (setup.py) ... \u001b[?25l\u001b[?25hdone\n",
            "  Created wheel for myhdlpeek: filename=myhdlpeek-1.0.0-py2.py3-none-any.whl size=21400 sha256=6b198f2fea63bb9c572a2aac386ab87b60c351479617194e50a69dfa8edc04d0\n",
            "  Stored in directory: /root/.cache/pip/wheels/c8/d9/7e/ad43a3328e8ad70b774fb935ddd9a85f8f4330dbd9ddb44aba\n",
            "Successfully built myhdlpeek\n",
            "Installing collected packages: uri-template, types-python-dateutil, rfc3986-validator, rfc3986, rfc3339-validator, pyvcd, python-json-logger, overrides, nbwavedrom, json5, jedi, fqdn, async-lru, jupyter-server-terminals, jupyter-client, jschon, arrow, isoduration, amaranth, jupyter-events, jupyter-server, jupyterlab-server, jupyter-lsp, jupyterlab, myhdlpeek\n",
            "  Attempting uninstall: jupyter-client\n",
            "    Found existing installation: jupyter-client 6.1.12\n",
            "    Uninstalling jupyter-client-6.1.12:\n",
            "      Successfully uninstalled jupyter-client-6.1.12\n",
            "  Attempting uninstall: jupyter-server\n",
            "    Found existing installation: jupyter-server 1.16.0\n",
            "    Uninstalling jupyter-server-1.16.0:\n",
            "      Successfully uninstalled jupyter-server-1.16.0\n",
            "\u001b[31mERROR: pip's dependency resolver does not currently take into account all the packages that are installed. This behaviour is the source of the following dependency conflicts.\n",
            "jupyter-kernel-gateway 2.5.2 requires jupyter-client<8.0,>=5.2.0, but you have jupyter-client 8.6.3 which is incompatible.\n",
            "notebook 6.5.7 requires jupyter-client<8,>=5.3.4, but you have jupyter-client 8.6.3 which is incompatible.\u001b[0m\u001b[31m\n",
            "\u001b[0mSuccessfully installed amaranth-0.5.6 arrow-1.3.0 async-lru-2.0.5 fqdn-1.5.1 isoduration-20.11.0 jedi-0.19.2 jschon-0.11.1 json5-0.12.0 jupyter-client-8.6.3 jupyter-events-0.12.0 jupyter-lsp-2.2.5 jupyter-server-2.16.0 jupyter-server-terminals-0.5.3 jupyterlab-4.4.2 jupyterlab-server-2.27.3 myhdlpeek-1.0.0 nbwavedrom-1.0.1 overrides-7.7.0 python-json-logger-3.3.0 pyvcd-0.4.1 rfc3339-validator-0.1.4 rfc3986-2.0.0 rfc3986-validator-0.1.1 types-python-dateutil-2.9.0.20250516 uri-template-1.3.0\n"
          ]
        }
      ],
      "source": [
        "!pip install myhdl\n",
        "!pip install myhdlpeek"
      ]
    },
    {
      "cell_type": "code",
      "source": [
        "from myhdl import intbv\n",
        "from myhdl import block,always\n",
        "from myhdl import Signal, intbv, delay, always_comb\n",
        "from myhdl import block, Signal, intbv, instance, delay, Simulation, StopSimulation\n",
        "from myhdlpeek import Peeker"
      ],
      "metadata": {
        "id": "_RFGGkGvjDiU"
      },
      "execution_count": null,
      "outputs": []
    },
    {
      "cell_type": "markdown",
      "source": [
        "###Instruction Fetch Block\n",
        "No pc+1 here as this created a racing condition so we let the Mux take control\n",
        "also it handles the excution of instructions"
      ],
      "metadata": {
        "id": "aVQotCAthPx0"
      }
    },
    {
      "cell_type": "code",
      "source": [
        "@block\n",
        "def Fetch_Unit(clock,pc, instructions, inst):\n",
        "    @always(clock.posedge)\n",
        "    def logic():\n",
        "        if int(pc) < len(instructions):\n",
        "            inst.next = instructions[int(pc)]\n",
        "            pc.next = pc + 1\n",
        "    return logic\n"
      ],
      "metadata": {
        "id": "GLTMCnKnhPHR"
      },
      "execution_count": null,
      "outputs": []
    },
    {
      "cell_type": "markdown",
      "source": [
        "### **Control** **Unit**"
      ],
      "metadata": {
        "id": "WvFd_P1Qq1Hf"
      }
    },
    {
      "cell_type": "code",
      "source": [
        "from myhdl import *\n",
        "\n",
        "@block\n",
        "def Control_Unit(\n",
        "    inst,          # 32-bit instruction input\n",
        "    RegDst,        # Output: bool (1=rd, 0=rt)\n",
        "    RegWrite,      # Output: bool\n",
        "    ALUSrc,        # Output: bool (1=imm, 0=reg)\n",
        "    ALUOp,         # Output: 3-bit ALU operation\n",
        "    MemWrite,      # Output: bool\n",
        "    MemRead,       # Output: bool\n",
        "    MemToReg,      # Output: bool (1=mem, 0=ALU)\n",
        "    Branch         # Output: bool\n",
        "):\n",
        "    @always_comb\n",
        "    def logic():\n",
        "        opcode = inst[32:26]\n",
        "        funct = inst[6:0] if opcode == 0b000000 else None\n",
        "\n",
        "        # Default control values (prevent latches)\n",
        "        RegDst.next = False\n",
        "        RegWrite.next = False\n",
        "        ALUSrc.next = False\n",
        "        ALUOp.next = intbv(0b011)[3:] #INITIALIZED AT 3\n",
        "        MemWrite.next = False\n",
        "        MemRead.next = False\n",
        "        MemToReg.next = False\n",
        "        Branch.next = False\n",
        "\n",
        "        if opcode == 0b000000:  # R-type\n",
        "            RegDst.next = bool(1)  # Explicit bool conversion\n",
        "            RegWrite.next = bool(1)\n",
        "            ALUSrc.next = False\n",
        "\n",
        "            # Decode funct field\n",
        "            if funct == 0b100000:   # ADD\n",
        "                ALUOp.next = intbv(0b010)[3:]\n",
        "            elif funct == 0b100010:  # SUB\n",
        "                ALUOp.next = intbv(0b110)[3:]\n",
        "            elif funct == 0b100100:  # AND\n",
        "                ALUOp.next = intbv(0b000)[3:]\n",
        "            elif funct == 0b100101:  # OR\n",
        "                ALUOp.next = intbv(0b001)[3:]\n",
        "            elif funct == 0b100110:  # XOR\n",
        "                ALUOp.next = intbv(0b011)[3:]\n",
        "\n",
        "        # I-Type Instructions\n",
        "        elif opcode == 0b001000:    # ADDI\n",
        "            RegWrite.next = True\n",
        "            ALUSrc.next = True\n",
        "            ALUOp.next = intbv(0b010)[3:]\n",
        "\n",
        "        elif opcode == 0b100100:    # SUBI\n",
        "            RegWrite.next = True\n",
        "            ALUSrc.next = True\n",
        "            ALUOp.next = intbv(0b110)[3:]\n",
        "\n",
        "        elif opcode == 0b100011:    # LW\n",
        "            RegWrite.next = True\n",
        "            ALUSrc.next = True\n",
        "            MemRead.next = True\n",
        "            MemToReg.next = True\n",
        "            ALUOp.next = intbv(0b010)[3:]\n",
        "\n",
        "        elif opcode == 0b101011:    # SW\n",
        "            ALUSrc.next = True\n",
        "            MemWrite.next = True\n",
        "            ALUOp.next = intbv(0b010)[3:]\n",
        "\n",
        "        elif opcode == 0b000100:    # BEQ\n",
        "            ALUOp.next = intbv(0b110)[3:]\n",
        "            Branch.next = True\n",
        "\n",
        "    return logic"
      ],
      "metadata": {
        "id": "W-HwaB5oqwD2"
      },
      "execution_count": null,
      "outputs": []
    },
    {
      "cell_type": "markdown",
      "source": [
        "###**Instruction Decoder**\n",
        "In the instruction decoder i want to do bit slicing so that each part of the instructions is fed seperatly into the Decoder and the inputs will differ (RegWrite/ Selector RegDest) For every insttruction type or according to the function\n",
        "Write Data will be placed in the WriteReg"
      ],
      "metadata": {
        "id": "nVJ-QBAHjHBJ"
      }
    },
    {
      "cell_type": "code",
      "source": [
        "@block\n",
        "def Decoder_Unit(inst, Rs, Rt, Rd, Immediate, Shamt, Funct, opcode):\n",
        "    @always_comb\n",
        "    def logic():\n",
        "        opcode.next = inst[32:26]\n",
        "        Rs.next = inst[26:21]\n",
        "        Rt.next = inst[21:16]\n",
        "        if opcode == 0b000000:  # R-type\n",
        "            Rd.next = inst[16:11]\n",
        "            Shamt.next = inst[11:6]\n",
        "            Funct.next = inst[6:0]\n",
        "            Immediate.next = 0\n",
        "        else:  # I-type\n",
        "            Immediate.next = inst[16:0]\n",
        "            Rd.next = 0  # No Rd in I-type\n",
        "    return logic"
      ],
      "metadata": {
        "id": "3Z-9D4xzjNwh"
      },
      "execution_count": null,
      "outputs": []
    },
    {
      "cell_type": "markdown",
      "source": [
        "### MUX_general"
      ],
      "metadata": {
        "id": "q0v-hY3r6XWI"
      }
    },
    {
      "cell_type": "code",
      "source": [
        "@block\n",
        "def Mux(Sel,S1,S2,Output): #output is the WriteReg\n",
        "  @always_comb\n",
        "  def mux_logic():\n",
        "    if Sel==1:\n",
        "      Output.next=S2\n",
        "    else:\n",
        "      Output.next=S1\n",
        "  return mux_logic"
      ],
      "metadata": {
        "id": "HrJbkUWs5cme"
      },
      "execution_count": null,
      "outputs": []
    },
    {
      "cell_type": "markdown",
      "source": [
        "### Sign extender"
      ],
      "metadata": {
        "id": "iTPKu68gv_4y"
      }
    },
    {
      "cell_type": "code",
      "source": [
        "@block\n",
        "def Sign_Extender_Unit(Immediate, Data_32b):\n",
        "    @always_comb\n",
        "    def logic():\n",
        "        sign_bit = Immediate[15]\n",
        "        # Create a signed intbv that can hold negative values\n",
        "        extended = intbv(0, min=-2**31, max=2**31)\n",
        "        extended[15:0] = Immediate  # Copy original bits\n",
        "        extended[31:16] = 0xFFFF if sign_bit else 0x0000\n",
        "        Data_32b.next = Immediate.signed() if Immediate else 0\n",
        "    return logic\n"
      ],
      "metadata": {
        "id": "Ru_es8m6wC9a"
      },
      "execution_count": null,
      "outputs": []
    },
    {
      "cell_type": "markdown",
      "source": [
        "###Register File"
      ],
      "metadata": {
        "id": "2LgNy03P8Yua"
      }
    },
    {
      "cell_type": "code",
      "source": [
        "@block\n",
        "def RegisterFile(\n",
        "    clk,\n",
        "    Rs,            # 5-bit source register 1\n",
        "    Rt,            # 5-bit source register 2\n",
        "    Rd,            # 5-bit destination register\n",
        "    WriteData,     # 32-bit data to write\n",
        "    RegWrite,      # Write enable\n",
        "    ReadData1,     # 32-bit output from Rs\n",
        "    ReadData2,     # 32-bit output from Rt\n",
        "    WriteReg,\n",
        "):\n",
        "\n",
        "    init_values = [4,5,3,6,7,5,8,7,1,23,55,4,5,65,73,45,16,7,3,22,11,55,15,76,5,3,45,12,23,12,6,0]\n",
        "    registers = [Signal(intbv(0)[32:]) for _ in range(32)]\n",
        "    for i in range(32):\n",
        "      registers[i] = intbv(init_values[i])[32:]\n",
        "\n",
        "    @always_comb\n",
        "    def read_logic():\n",
        "        ReadData1.next = registers[int(Rs)]\n",
        "        ReadData2.next = registers[int(Rt)]\n",
        "\n",
        "    @always(clk.posedge)\n",
        "    def write_logic():\n",
        "        # If writing to a register, avoid writing to $zero\n",
        "        if RegWrite and WriteReg != 0:\n",
        "          registers[int(WriteReg)].next = WriteData\n",
        "\n",
        "    return read_logic, write_logic\n"
      ],
      "metadata": {
        "id": "VE2kB20S8X3i"
      },
      "execution_count": null,
      "outputs": []
    },
    {
      "cell_type": "markdown",
      "source": [
        "# ALU Block"
      ],
      "metadata": {
        "id": "enx7U5b3WSCD"
      }
    },
    {
      "cell_type": "code",
      "source": [
        "@block\n",
        "def ALU(ALUOp, ReadData1, B, ALU_result, Zero, opcode, writeDataReg):\n",
        "    \"\"\"\n",
        "    Args:\n",
        "        ALUOp (3-bit): Control signal determining operation.\n",
        "        ReadData1 (32-bit): First operand (from register).\n",
        "        B (32-bit): Second operand (could be register or sign-extended immediate).\n",
        "        ALU_result (32-bit output): Result of ALU operation.\n",
        "        Zero (1-bit output): 1 if ALU_result == 0 (for BEQ/BNE).\n",
        "        opcode (6-bit): Instruction opcode (to distinguish R-type vs I-type).\n",
        "    \"\"\"\n",
        "\n",
        "    @always_comb\n",
        "    def logic():\n",
        "        # Default values (avoid latches)\n",
        "        ALU_result.next = 0\n",
        "        Zero.next = 0\n",
        "\n",
        "        # R-type instructions (opcode 0b000000)\n",
        "        if opcode == 0b000000:\n",
        "            if ALUOp == 0b010:    # ADD (e.g., 'add $rd, $rs, $rt')\n",
        "                ALU_result.next = ReadData1 + B\n",
        "            elif ALUOp == 0b110:  # SUB (e.g., 'sub $rd, $rs, $rt')\n",
        "                ALU_result.next = ReadData1 - B\n",
        "            elif ALUOp == 0b000:  # AND (e.g., 'and $rd, $rs, $rt')\n",
        "                ALU_result.next = ReadData1 & B\n",
        "            elif ALUOp == 0b001:  # OR (e.g., 'or $rd, $rs, $rt')\n",
        "                ALU_result.next = ReadData1 | B\n",
        "            elif ALUOp == 0b011:  # XOR (e.g., 'xor $rd, $rs, $rt')\n",
        "                ALU_result.next = ReadData1 ^ B\n",
        "\n",
        "        # I-type instructions (ADDI, SUBI, ANDI, ORI, XORI)\n",
        "        else:\n",
        "\n",
        "            if ALUOp == 0b010:    # ADDI (e.g., 'addi $rt, $rs, imm')\n",
        "                ALU_result.next = ReadData1 + B  # B is sign-extended immediate\n",
        "            elif ALUOp == 0b110:  # SUBI (e.g., 'subi $rt, $rs, imm')\n",
        "                ALU_result.next = ReadData1 - B  # B is sign-extended immediate\n",
        "            elif ALUOp == 0b000:  # ANDI (e.g., 'andi $rt, $rs, imm')\n",
        "                ALU_result.next = ReadData1 & B  # B is zero-extended immediate\n",
        "            elif ALUOp == 0b001:  # ORI (e.g., 'ori $rt, $rs, imm')\n",
        "                ALU_result.next = ReadData1 | B  # B is zero-extended immediate\n",
        "            elif ALUOp == 0b011:  # XORI (e.g., 'xori $rt, $rs, imm')\n",
        "                ALU_result.next = ReadData1 ^ B  # B is zero-extended immediate\n",
        "\n",
        "        # Zero flag (for BEQ/BNE)\n",
        "        Zero.next = 1 if ALU_result == 0 else 0\n",
        "\n",
        "\n",
        "    @always_comb\n",
        "    def assign_writeDataReg():\n",
        "      if RegWrite:\n",
        "        writeDataReg.next = ALU_result\n",
        "      else:\n",
        "        writeDataReg.next = 0\n",
        "\n",
        "    return logic, assign_writeDataReg\n"
      ],
      "metadata": {
        "id": "gmQXEUrDWUxK"
      },
      "execution_count": null,
      "outputs": []
    },
    {
      "cell_type": "markdown",
      "source": [
        "# Memory\n",
        "Since only the load and the store access the memory, so the ALU result here is the calculated address not the value to be stored in the registers"
      ],
      "metadata": {
        "id": "t7t5TIBna8gf"
      }
    },
    {
      "cell_type": "code",
      "source": [
        "@block\n",
        "def Memory(clk, MemRead, MemWrite, ALU_result, Read_data, Write_data, Data_memory, ReadData2, writeDataMemory):\n",
        "\n",
        "  @always(clk.posedge)\n",
        "  def logic():\n",
        "    #for the lw\n",
        "    if MemRead:\n",
        "      Read_data.next = Data_memory[int(ALU_result)] #ALU_result used as an offset\n",
        "    #for the Sw\n",
        "    elif MemWrite:\n",
        "      Data_memory[int(ALU_result)].next = Write_data #ALU_result used as an offset\n",
        "\n",
        "  @always_comb\n",
        "  def update_write_data_memory():\n",
        "    if MemWrite:  # If we are performing a store word (sw) operation\n",
        "      writeDataMemory.next = ReadData2\n",
        "    else:\n",
        "      writeDataMemory.next = 0\n",
        "\n",
        "  return logic, update_write_data_memory"
      ],
      "metadata": {
        "id": "qJEp13CJa-97"
      },
      "execution_count": null,
      "outputs": []
    },
    {
      "cell_type": "markdown",
      "source": [
        "# Full Adder for branch **calculation**"
      ],
      "metadata": {
        "id": "Uh5_u-BgaIU9"
      }
    },
    {
      "cell_type": "code",
      "source": [
        "@block\n",
        "def Adder(pc, shifted_Data_32b, branch_target):\n",
        "    @always_comb\n",
        "    def logic():\n",
        "        branch_target.next = pc + shifted_Data_32b\n",
        "    return logic"
      ],
      "metadata": {
        "id": "ySnRarh8aNSc"
      },
      "execution_count": null,
      "outputs": []
    },
    {
      "cell_type": "markdown",
      "source": [
        "Shiftin the offset"
      ],
      "metadata": {
        "id": "SZAHjopQ8SSP"
      }
    },
    {
      "cell_type": "code",
      "source": [
        "@block\n",
        "def ShiftLeftby2(Data_32b, shifted_Data_32b):\n",
        "    @always_comb\n",
        "    def logic():\n",
        "        shifted_Data_32b.next = Data_32b << 2\n",
        "    return logic"
      ],
      "metadata": {
        "id": "qDAEnf1E8SBm"
      },
      "execution_count": null,
      "outputs": []
    },
    {
      "cell_type": "markdown",
      "source": [
        "# And Gate"
      ],
      "metadata": {
        "id": "RUwLxAsteab0"
      }
    },
    {
      "cell_type": "code",
      "source": [
        "@block\n",
        "def ANDGate(Branch, Zero, Mux_branch_sel):\n",
        "    @always_comb\n",
        "    def logic():\n",
        "        Mux_branch_sel.next = Branch & Zero\n",
        "    return logic"
      ],
      "metadata": {
        "id": "k4Z85GdDefOr"
      },
      "execution_count": null,
      "outputs": []
    },
    {
      "cell_type": "markdown",
      "source": [
        "MUX"
      ],
      "metadata": {
        "id": "fvXWdqE9Hycw"
      }
    },
    {
      "cell_type": "code",
      "source": [
        "# Modified Mux with flags\n",
        "@block\n",
        "def Mux(Sel, S1, S2, Output):\n",
        "    @always_comb\n",
        "    def mux_logic():\n",
        "        if Sel == 1:\n",
        "            Output.next = S2\n",
        "        else:\n",
        "            Output.next = S1\n",
        "    return mux_logic"
      ],
      "metadata": {
        "id": "EzrpMcFdHzp4"
      },
      "execution_count": null,
      "outputs": []
    },
    {
      "cell_type": "markdown",
      "source": [
        "MUX4"
      ],
      "metadata": {
        "id": "9zahoxaQz569"
      }
    },
    {
      "cell_type": "code",
      "source": [
        "# Modified Mux with flags\n",
        "@block\n",
        "def Mux4(Sel, S1, S2, Output):\n",
        "    @always(Sel)\n",
        "    def mux_logic():\n",
        "        if Sel == 1:\n",
        "            Output.next = S2[5:]\n",
        "        else:\n",
        "            Output.next = S1[5:]\n",
        "    return mux_logic"
      ],
      "metadata": {
        "id": "ytlrqkmLzvvj"
      },
      "execution_count": null,
      "outputs": []
    },
    {
      "cell_type": "code",
      "source": [
        "# Import Peeker for waveform visualization\n",
        "from myhdlpeek import Peeker\n",
        "\n",
        "# Read the binary instructions from file\n",
        "with open(\"Instructions.txt\", \"r\") as file:\n",
        "    # Remove newlines and spaces and read as continuous binary string\n",
        "    binary_data = file.read().replace(\"\\n\", \"\").replace(\" \", \"\")\n",
        "\n",
        "    # Convert binary string to list of 32-bit instruction vectors\n",
        "    instructions = [intbv(int(binary_data[i:i+32], 2))[32:]\n",
        "                   for i in range(0, len(binary_data), 32)]\n",
        "\n",
        "###############################################################################\n",
        "# CORE PROCESSOR SIGNALS\n",
        "###############################################################################\n",
        "\n",
        "# Instruction Fetch Signals\n",
        "inst = Signal(intbv(0)[32:])       # Current instruction being executed\n",
        "pc = Signal(intbv(0)[32:])         # Program counter (current instruction address)\n",
        "pc_plus_1 = Signal(intbv(0)[32:])  # PC + 1 (for word-addressable memory)\n",
        "pc_next = Signal(intbv(0)[32:])    # Next PC value (for branches/jumps)\n",
        "clk = Signal(bool(0))              # System clock\n",
        "\n",
        "# Instruction Decoding Signals\n",
        "opcode = Signal(intbv(0)[6:])      # Opcode field (bits 31-26)\n",
        "Rs = Signal(intbv(0)[5:])          # rs field (bits 25-21, source register 1)\n",
        "Rt = Signal(intbv(0)[5:])          # rt field (bits 20-16, source register 2)\n",
        "Rd = Signal(intbv(0)[5:])          # rd field (bits 15-11, destination register)\n",
        "Immediate = Signal(intbv(0)[16:])  # Immediate field (bits 15-0)\n",
        "Shamt = Signal(intbv(0)[5:])       # Shift amount field (bits 10-6)\n",
        "Funct = Signal(intbv(0)[6:])       # Function code field (bits 5-0, for R-type)\n",
        "\n",
        "###############################################################################\n",
        "# CONTROL UNIT SIGNALS\n",
        "###############################################################################\n",
        "\n",
        "RegDst = Signal(bool(0))    # Selects destination register (1=Rd, 0=Rt)\n",
        "RegWrite = Signal(bool(0))  # Register file write enable\n",
        "ALUSrc = Signal(bool(0))    # Selects ALU source (1=Immediate, 0=ReadData2)\n",
        "ALUOp = Signal(intbv(0)[3:]) # ALU operation control code\n",
        "MemWrite = Signal(bool(0))  # Data memory write enable\n",
        "MemRead = Signal(bool(0))   # Data memory read enable\n",
        "MemToReg = Signal(bool(0))  # Selects writeback data (1=Memory, 0=ALU)\n",
        "Branch = Signal(bool(0))    # Branch control signal\n",
        "\n",
        "###############################################################################\n",
        "# DATAPATH SIGNALS\n",
        "###############################################################################\n",
        "\n",
        "# Register File Signals\n",
        "ReadData1 = Signal(intbv(0)[32:])  # Data read from register rs\n",
        "ReadData2 = Signal(intbv(0)[32:])  # Data read from register rt\n",
        "WriteData = Signal(intbv(0)[32:])  # Data to be written to register file\n",
        "WriteReg = Signal(intbv(0)[5:])    # Destination register address\n",
        "\n",
        "# ALU Signals\n",
        "A = Signal(intbv(0)[32:])           # ALU input 1 (from ReadData1)\n",
        "B = Signal(intbv(0)[32:])           # ALU input 2 (from Mux_ALUSrc) either form readdata 2 or immediate\n",
        "ALU_result = Signal(intbv(0, min=-2**31, max=2**31))  # ALU result (signed)\n",
        "Zero = Signal(bool(0))              # Zero flag (1 when ALU result is zero)\n",
        "\n",
        "# Memory Signals\n",
        "writeDataReg = Signal(intbv(0, min=-2**31, max=2**31))  # Data to write to reg (signed)\n",
        "writeDataMemory = Signal(intbv(0, min=-2**31, max=2**31))  # Data to write to mem (signed)\n",
        "Read_data = Signal(intbv(0, min=-2**31, max=2**31))  # Data read from memory (signed)\n",
        "Data_memory = [Signal(intbv(0)[32:]) for _ in range(1000)]  # Data memory array\n",
        "\n",
        "# Branch/Jump Signals\n",
        "and_output = Signal(bool(0))        # AND gate output (Branch & Zero)\n",
        "branch_target = Signal(intbv(0)[32:])  # Branch target address (PC + offset)\n",
        "reset = Signal(bool(1))             # System reset (active high)\n",
        "shifted_Data_32b = Signal(intbv(0)[32:])  # Sign-extended immediate shifted left by 2\n",
        "Data_32b = Signal(intbv(0, min=-2**31, max=2**31))  # Sign-extended immediate\n",
        "\n",
        "@block\n",
        "def Top_Module():\n",
        "    \"\"\"\n",
        "    Top-level module that instantiates and connects all processor components.\n",
        "    Also sets up signal monitoring with Peeker for waveform visualization.\n",
        "    \"\"\"\n",
        "\n",
        "    ###########################################################################\n",
        "    # SIGNAL MONITORING SETUP (for waveform visualization)\n",
        "    ###########################################################################\n",
        "\n",
        "    # Core signals\n",
        "    Peeker(inst, 'inst')            # Current instruction\n",
        "    Peeker(pc, 'pc')                # Program counter\n",
        "    Peeker(clk, 'clk')              # Clock signal\n",
        "    Peeker(opcode, 'opcode')        # Instruction opcode\n",
        "\n",
        "    # Data path signals\n",
        "    Peeker(writeDataMemory, 'writeDataMemory')  # Data to be written to memory\n",
        "    Peeker(writeDataReg, 'writeDataReg')       # Data to be written to register\n",
        "    Peeker(WriteReg, 'writeReg')               # Destination register address\n",
        "    Peeker(Data_32b, 'newim')                  # Sign-extended immediate\n",
        "    Peeker(ALU_result, 'ALUResult')            # ALU computation result\n",
        "    Peeker(Zero, 'Zero')                       # ALU zero flag\n",
        "\n",
        "    # Branch control signals\n",
        "    Peeker(branch_target, 'jumpAdderResult')   # Branch target address\n",
        "    Peeker(and_output, 'and_output')           # Branch condition (AND gate output)\n",
        "    Peeker(shifted_Data_32b, 'shiftedim')      # Shifted immediate (for branch offset)\n",
        "\n",
        "    # Memory control signals\n",
        "    Peeker(MemWrite, 'MemWriteBool')           # Memory write enable\n",
        "    Peeker(MemRead, 'MemReadBool')             # Memory read enable\n",
        "    Peeker(Branch, 'BranchBool')               # Branch instruction flag\n",
        "\n",
        "    ###########################################################################\n",
        "    # COMPONENT INSTANTIATION\n",
        "    ###########################################################################\n",
        "\n",
        "    # Instruction Fetch Stage\n",
        "    Fetch = Fetch_Unit(clk, pc, instructions, inst)\n",
        "\n",
        "    # Control Unit\n",
        "    Control = Control_Unit(inst, RegDst, RegWrite, ALUSrc, ALUOp,\n",
        "                          MemWrite, MemRead, MemToReg, Branch)\n",
        "\n",
        "    # Register Destination Mux (selects Rd or Rt as destination register)\n",
        "    Mux_RegDst = Mux(RegDst, Rt, Rd, WriteReg)\n",
        "\n",
        "    # Instruction Decoder\n",
        "    Decoder = Decoder_Unit(inst, Rs, Rt, Rd, Immediate, Shamt, Funct, opcode)\n",
        "\n",
        "    # Sign Extension Unit\n",
        "    Sign_Extender = Sign_Extender_Unit(Immediate, Data_32b)\n",
        "\n",
        "    # Register File\n",
        "    RegFile = RegisterFile(clk, Rs, Rt, Rd, WriteData, RegWrite,\n",
        "                         ReadData1, ReadData2, WriteReg)\n",
        "\n",
        "    # ALU Source Mux (selects register data or immediate)\n",
        "    Mux_ALUSrc = Mux(ALUSrc, ReadData2, Data_32b, B)\n",
        "\n",
        "    # ALU\n",
        "    ALU_Module = ALU(ALUOp, ReadData1, B, ALU_result, Zero, opcode, writeDataReg)\n",
        "\n",
        "    # Data Memory\n",
        "    Memory_Module = Memory(clk, MemRead, MemWrite, ALU_result,\n",
        "                          Read_data, WriteData, Data_memory, ReadData2, writeDataMemory)\n",
        "\n",
        "    # Memory-to-Register Mux (selects ALU result or memory data for writeback)\n",
        "    Mux_MemToReg = Mux(MemToReg, Read_data, ALU_result, WriteData)\n",
        "\n",
        "    # Branch Control Logic\n",
        "    and_gate = ANDGate(Branch, Zero, and_output)  # AND gate for branch condition\n",
        "    shifter = ShiftLeftby2(Data_32b, shifted_Data_32b)  # Shift immediate for branch offset\n",
        "    full_adder = Adder(pc, shifted_Data_32b, branch_target)  # Calculate branch target\n",
        "    mux_branch = Mux4(and_output, pc, branch_target, pc)  # Select next PC (branch or PC+4)\n",
        "\n",
        "    return (Fetch, Control, Mux_RegDst, Decoder, Sign_Extender, RegFile,\n",
        "           Mux_ALUSrc, ALU_Module, Memory_Module, Mux_MemToReg, full_adder,\n",
        "           and_gate, mux_branch, shifter)\n",
        "\n",
        "\n",
        "@block\n",
        "def test_bench():\n",
        "    \"\"\"\n",
        "    Test bench for the processor simulation.\n",
        "    Generates clock cycles and runs the simulation.\n",
        "    \"\"\"\n",
        "    @instance\n",
        "    def tb_process():\n",
        "        # Generate clock cycles for simulation\n",
        "        for cycle in range(30):\n",
        "            yield delay(1)\n",
        "            clk.next = not clk  # Toggle clock each time unit\n",
        "\n",
        "        raise StopSimulation  # End simulation after 30 cycles\n",
        "\n",
        "    return tb_process\n",
        "\n",
        "\n",
        "# Create and run the simulation\n",
        "tb = test_bench()\n",
        "top = Top_Module()\n",
        "sim = Simulation(top, tb, *Peeker.instances())\n",
        "sim.run()\n",
        "\n",
        "# Display waveforms after simulation\n",
        "Peeker.show_waveforms(width=20, slope=0)\n",
        "Peeker.clear()  # Clean up Peeker instances"
      ],
      "metadata": {
        "id": "FMGys2X1gz7x",
        "colab": {
          "base_uri": "https://localhost:8080/",
          "height": 541
        },
        "outputId": "ba24d742-488c-406b-b8c2-48affae0c4ea"
      },
      "execution_count": null,
      "outputs": [
        {
          "output_type": "display_data",
          "data": {
            "text/plain": [
              "<Figure size 2000x800 with 16 Axes>"
            ],
            "image/png": "[encoded data removed]"
          },
          "metadata": {}
        }
      ]
    }
  ]
}